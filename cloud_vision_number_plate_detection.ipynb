{
  "nbformat": 4,
  "nbformat_minor": 0,
  "metadata": {
    "colab": {
      "name": "cloud-vision-number-plate-detection.ipynb",
      "provenance": [],
      "collapsed_sections": [],
      "authorship_tag": "ABX9TyM1tLSm/P/MMJXnlCYL/UIk",
      "include_colab_link": true
    },
    "kernelspec": {
      "name": "python3",
      "display_name": "Python 3"
    },
    "language_info": {
      "name": "python"
    }
  },
  "cells": [
    {
      "cell_type": "markdown",
      "metadata": {
        "id": "view-in-github",
        "colab_type": "text"
      },
      "source": [
        "<a href=\"https://colab.research.google.com/github/santhosh007K/google-cloud-vision/blob/master/cloud_vision_number_plate_detection.ipynb\" target=\"_parent\"><img src=\"https://colab.research.google.com/assets/colab-badge.svg\" alt=\"Open In Colab\"/></a>"
      ]
    },
    {
      "cell_type": "code",
      "execution_count": null,
      "metadata": {
        "id": "8HiDPYBm3iGj"
      },
      "outputs": [],
      "source": [
        "!pip install google-cloud-bigquery\n",
        "!pip install google.cloud.vision\n"
      ]
    },
    {
      "cell_type": "code",
      "source": [
        ""
      ],
      "metadata": {
        "id": "dusn6XiQjMDR"
      },
      "execution_count": null,
      "outputs": []
    },
    {
      "cell_type": "code",
      "source": [
        "import os\n",
        "import io\n",
        "#from google.cloud.vision import types\n",
        "from google.cloud.vision_v1 import types\n",
        "from google.cloud import vision"
      ],
      "metadata": {
        "id": "SpaC5uLN4s8x"
      },
      "execution_count": null,
      "outputs": []
    },
    {
      "cell_type": "code",
      "source": [
        ""
      ],
      "metadata": {
        "id": "TQtiogw24qaU"
      },
      "execution_count": null,
      "outputs": []
    },
    {
      "cell_type": "code",
      "source": [
        "# working  save file in  pc and provide absolute path\n",
        "\n",
        "#os.environ['GOOGLE_APPLICATION_CREDENTIALS'] = 'ancient-voltage-280612-a006e8696857.json'\n",
        "os.environ['GOOGLE_APPLICATION_CREDENTIALS'] = 'ancient-voltage-280612-a3b791134666.json'"
      ],
      "metadata": {
        "id": "UpI_UdpV4DNw"
      },
      "execution_count": null,
      "outputs": []
    },
    {
      "cell_type": "code",
      "source": [
        "\n",
        "# Instantiates a client\n",
        "client = vision.ImageAnnotatorClient()\n",
        "\n",
        "# The name of the image file to annotate\n",
        "#file_name = os.path.abspath('maxresdefault.jpg')\n",
        "#file_name = os.path.abspath('C:\\\\Users\\\\santpc\\\\Desktop\\\\car2.jpeg')\n",
        "file_name = os.path.abspath('car.JPG')\n",
        "\n",
        "# Loads the image into memory\n",
        "with io.open(file_name, 'rb') as image_file:\n",
        "    content = image_file.read()\n",
        "\n",
        "#image = vision.Image(content=content)\n",
        "\n",
        "image = types.Image(content=content)\n",
        "\n",
        "# Performs label detection on the image file\n",
        "response = client.label_detection(image=image)\n",
        "labels = response.label_annotations\n",
        "\n",
        "print('Labels:')\n",
        "for label in labels:\n",
        "    print(label.description)\n",
        "response_text = client.text_detection(image=image)\n",
        "\n",
        "for r in response_text.text_annotations:\n",
        "    d = {\n",
        "        'text': r.description\n",
        "    }\n",
        "    print(d)"
      ],
      "metadata": {
        "colab": {
          "base_uri": "https://localhost:8080/"
        },
        "id": "y7JwU6cq33VU",
        "outputId": "cb6e90c8-b580-431f-d0e2-b5704c7beff7"
      },
      "execution_count": null,
      "outputs": [
        {
          "output_type": "stream",
          "name": "stdout",
          "text": [
            "Labels:\n",
            "Automotive parking light\n",
            "Car\n",
            "Vehicle registration plate\n",
            "Vehicle\n",
            "Automotive side-view mirror\n",
            "Grille\n",
            "Automotive lighting\n",
            "Hood\n",
            "Automotive tire\n",
            "Motor vehicle\n",
            "{'text': 'MH200Y2366'}\n",
            "{'text': 'MH200Y2366'}\n"
          ]
        }
      ]
    }
  ]
}